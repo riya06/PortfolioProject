{
 "cells": [
  {
   "cell_type": "markdown",
   "id": "de25afa1",
   "metadata": {},
   "source": [
    "Automated File Sorter in FileExplorer\n"
   ]
  },
  {
   "cell_type": "code",
   "execution_count": 2,
   "id": "f9c74ec3",
   "metadata": {},
   "outputs": [],
   "source": [
    "import os,shutil\n"
   ]
  },
  {
   "cell_type": "code",
   "execution_count": 6,
   "id": "62d3d405",
   "metadata": {},
   "outputs": [],
   "source": [
    "path=r\"C:/Users/hp/OneDrive/Documents/Python/\""
   ]
  },
  {
   "cell_type": "code",
   "execution_count": 7,
   "id": "4d4f47d0",
   "metadata": {},
   "outputs": [
    {
     "data": {
      "text/plain": [
       "['Data Cleaning Excel Tutorial.xlsx',\n",
       " 'istockphoto-1436794508-2048x2048.jpg',\n",
       " 'junior data analyst req.docx']"
      ]
     },
     "execution_count": 7,
     "metadata": {},
     "output_type": "execute_result"
    }
   ],
   "source": [
    "os.listdir(path)"
   ]
  },
  {
   "cell_type": "code",
   "execution_count": 5,
   "id": "b6d614a5",
   "metadata": {},
   "outputs": [
    {
     "data": {
      "text/plain": [
       "False"
      ]
     },
     "execution_count": 5,
     "metadata": {},
     "output_type": "execute_result"
    }
   ],
   "source": [
    "os.path.exists(path + '.csvfiles')\n",
    "#to check if they exists"
   ]
  },
  {
   "cell_type": "code",
   "execution_count": 9,
   "id": "0fd609f1",
   "metadata": {},
   "outputs": [
    {
     "name": "stdout",
     "output_type": "stream",
     "text": [
      "C:/Users/hp/OneDrive/Documents/Python/worddocs\n",
      "C:/Users/hp/OneDrive/Documents/Python/excelfiles\n",
      "C:/Users/hp/OneDrive/Documents/Python/image files\n"
     ]
    }
   ],
   "source": [
    "folder_names=['worddocs','excelfiles','image files']\n",
    "for loop in range(0,3):\n",
    "    if not os.path.exists(path+folder_names[loop]):\n",
    "        print(path+folder_names[loop])\n",
    "    os.mkdir(path+folder_names[loop])"
   ]
  },
  {
   "cell_type": "code",
   "execution_count": 10,
   "id": "33d3ff7f",
   "metadata": {},
   "outputs": [],
   "source": [
    "file_names= os.listdir(path)"
   ]
  },
  {
   "cell_type": "code",
   "execution_count": 16,
   "id": "14deffd1",
   "metadata": {},
   "outputs": [],
   "source": [
    "for file in file_names:\n",
    "    if \".docx\" in file and not os.path.exists(path + \"worddocs/\" + file):\n",
    "        shutil.move (path +file,path + \"worddocs/\" + file)\n",
    "    elif \".xlsx\" in file and not os.path.exists(path +\"excelfiles/\"+ file):\n",
    "        shutil.move (path +file,path + \"excelfiles/\" + file)\n",
    "    elif \".jpg\" in file and not os.path.exists(path + \"image files/\" + file):\n",
    "        shutil.move (path +file,path + 'image files/' + file)\n",
    "        \n",
    "                "
   ]
  },
  {
   "cell_type": "code",
   "execution_count": null,
   "id": "6cdb9e6c",
   "metadata": {},
   "outputs": [],
   "source": []
  }
 ],
 "metadata": {
  "kernelspec": {
   "display_name": "Python 3 (ipykernel)",
   "language": "python",
   "name": "python3"
  },
  "language_info": {
   "codemirror_mode": {
    "name": "ipython",
    "version": 3
   },
   "file_extension": ".py",
   "mimetype": "text/x-python",
   "name": "python",
   "nbconvert_exporter": "python",
   "pygments_lexer": "ipython3",
   "version": "3.11.5"
  }
 },
 "nbformat": 4,
 "nbformat_minor": 5
}
